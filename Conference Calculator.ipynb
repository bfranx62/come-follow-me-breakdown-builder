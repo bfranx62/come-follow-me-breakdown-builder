{
 "cells": [
  {
   "cell_type": "code",
   "execution_count": 1,
   "metadata": {},
   "outputs": [],
   "source": [
    "# imports necessary packages\n",
    "import re\n",
    "import os\n",
    "\n",
    "# set working directory\n",
    "os.chdir('D:\\\\Faith and Religion Stuff\\\\Come, Follow Me Breakdowns\\\\come-follow-me-breakdown-builder')"
   ]
  },
  {
   "cell_type": "markdown",
   "metadata": {},
   "source": [
    "### 18 Sep 2024\n",
    "\n",
    "As I was studying the scriptures this morning, a few ideas came to me that I wanted to record so I could get back to my study ASAP and finish it before getting engaged in all of this:\n",
    "\n",
    "* I want to implement a user input aspect to get the start and end dates. I can use Regex to determine whether or not the inputted date is satisfactory for my function.\n",
    "* This calculator will actually be two calculators - the first will gather information about the start and end reading dates, and determine how many days need to be spent on each talk, and assign dates for each readthrough. **NOTE**: Something I'll need to also account for is whether or not I want to read multiple times. \n",
    "* The second calculator will break down each talk into sections of paragraphs based on the number of days that will be spent reading it. "
   ]
  },
  {
   "cell_type": "code",
   "execution_count": null,
   "metadata": {},
   "outputs": [],
   "source": []
  }
 ],
 "metadata": {
  "kernelspec": {
   "display_name": "base",
   "language": "python",
   "name": "python3"
  },
  "language_info": {
   "codemirror_mode": {
    "name": "ipython",
    "version": 3
   },
   "file_extension": ".py",
   "mimetype": "text/x-python",
   "name": "python",
   "nbconvert_exporter": "python",
   "pygments_lexer": "ipython3",
   "version": "3.11.7"
  }
 },
 "nbformat": 4,
 "nbformat_minor": 2
}
