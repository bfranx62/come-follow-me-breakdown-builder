{
 "cells": [
  {
   "cell_type": "markdown",
   "metadata": {},
   "source": [
    "This notebook will document my initial learning of Regular Expressions (Regex), which should enable me to webscrape information I need from the difference conference talk webpages by setting patterns and such to look for. "
   ]
  },
  {
   "cell_type": "code",
   "execution_count": 1,
   "metadata": {},
   "outputs": [],
   "source": [
    "# imports necessary packages\n",
    "import re\n",
    "import os"
   ]
  },
  {
   "cell_type": "code",
   "execution_count": 2,
   "metadata": {},
   "outputs": [],
   "source": [
    "# set working directory\n",
    "os.chdir('D:\\\\Faith and Religion Stuff\\\\Come, Follow Me Breakdowns\\\\come-follow-me-breakdown-builder')"
   ]
  },
  {
   "cell_type": "markdown",
   "metadata": {},
   "source": [
    "The link below is to a fairly comprehensive cheat sheet of Regex patterns.\n",
    "\n",
    "https://www.rexegg.com/regex-quickstart.php\n",
    "\n",
    "**re.search(pattern, string)** searches the string object looking for the pattern, and returns a matching object if that pattern is found. Otherwise it returns **None**. "
   ]
  },
  {
   "cell_type": "code",
   "execution_count": 3,
   "metadata": {},
   "outputs": [
    {
     "name": "stdout",
     "output_type": "stream",
     "text": [
      "Match found: 10\n"
     ]
    }
   ],
   "source": [
    "# saves as object 'text' the text to be searched through\n",
    "text = 'I have 10 apples and 2 bananas.'\n",
    "# saves as object 'pattern' the Regex pattern I'm looking for. \n",
    "# In this case the pattern is looking for any one or more digits\n",
    "pattern = '\\d+'\n",
    "\n",
    "# saves as object 'result' the results of search using \n",
    "result = re.search(pattern, text)\n",
    "# if there is any result of the search, print it\n",
    "if result:\n",
    "    print(f'Match found: {result.group()}')\n",
    "# otherwise print 'No match found.'\n",
    "else:\n",
    "    print('No match found.')"
   ]
  },
  {
   "cell_type": "markdown",
   "metadata": {},
   "source": [
    "Running this, only our first result was returned, since we used the **re.search()** function. If I had used **re.findall()**, it would have returned both 10 and 2. See below. "
   ]
  },
  {
   "cell_type": "code",
   "execution_count": 4,
   "metadata": {},
   "outputs": [
    {
     "name": "stdout",
     "output_type": "stream",
     "text": [
      "Match found: ['10', '2']\n"
     ]
    }
   ],
   "source": [
    "# relies on same pattern and text as defined above, saves as a different object. \n",
    "result_findall = re.findall(pattern, text)\n",
    "if result:\n",
    "    print(f'Match found: {result_findall}')\n",
    "else:\n",
    "    print('No match found.')"
   ]
  },
  {
   "cell_type": "markdown",
   "metadata": {},
   "source": [
    "Using **re.findall** returned the a list object containing both 10 and 2, which are the two items in the text that match the pattern I set. "
   ]
  },
  {
   "cell_type": "code",
   "execution_count": 5,
   "metadata": {},
   "outputs": [
    {
     "name": "stdout",
     "output_type": "stream",
     "text": [
      "Match found: I\n"
     ]
    }
   ],
   "source": [
    "# this pattern looks for any word character - ie, alphanumeric characters and underscores. \n",
    "# basically, it looks for a-z, A-Z, 0-9, and _. \n",
    "pattern = '\\w'\n",
    "\n",
    "result = re.search(pattern, text)\n",
    "if result:\n",
    "    print(f\"Match found: {result.group()}\")\n",
    "else:\n",
    "    print(\"No match found.\")"
   ]
  },
  {
   "cell_type": "markdown",
   "metadata": {},
   "source": [
    "The above pattern and code returns \"I\", the first alphanumeric character in the string. "
   ]
  },
  {
   "cell_type": "code",
   "execution_count": 6,
   "metadata": {},
   "outputs": [
    {
     "name": "stdout",
     "output_type": "stream",
     "text": [
      "Match found: ['I', 'h', 'a', 'v', 'e', '1', '0', 'a', 'p', 'p', 'l', 'e', 's', 'a', 'n', 'd', '2', 'b', 'a', 'n', 'a', 'n', 'a', 's']\n"
     ]
    }
   ],
   "source": [
    "# relies on same pattern and text as defined above, saves as a different object. \n",
    "result_findall = re.findall(pattern, text)\n",
    "if result:\n",
    "    print(f'Match found: {result_findall}')\n",
    "else:\n",
    "    print('No match found.')"
   ]
  },
  {
   "cell_type": "markdown",
   "metadata": {},
   "source": [
    "The code above, using **re.findall()** saves as a list ALL alphanumeric characters found. \n",
    "\n",
    "This **|** symbol is the OR operator, specifying that one or another pattern is to be searched for. "
   ]
  },
  {
   "cell_type": "code",
   "execution_count": 7,
   "metadata": {},
   "outputs": [
    {
     "name": "stdout",
     "output_type": "stream",
     "text": [
      "Fruit found: apple\n"
     ]
    }
   ],
   "source": [
    "pattern = r'apple|banana'\n",
    "\n",
    "result = re.search(pattern, text)\n",
    "if result:\n",
    "    print(\"Fruit found:\", result.group())\n",
    "else:\n",
    "    print(\"No fruit found.\")"
   ]
  },
  {
   "cell_type": "markdown",
   "metadata": {},
   "source": [
    "Again, because I used **re.search()**, I got the first pattern found. Had I used **re.findall()**, I would have gotten both. \n",
    "\n",
    "This operator will be useful for me, as one pattern I will be searching for is **Elder|Sister** in order to establish the gender of the speaker in my primary key making process. \n",
    "\n",
    "I could probably also look for **First Presidency|Apostles|Seventy|Relief|Primary|Sunday** in order to establish the organization the speaker belongs to. I'll test that theory below by using multiple OR operator symbols in my pattern. In my webscraping, I'll most likely just use **re.search()** since I'll be looking for the very first mention of any of these offices. \n",
    "\n",
    "I've also changed the order to see if that has any impact. I'm **expecting** the result to be 'have', but if 'banana' is the result, it will tell me that the Regex pattern looks through the whole string for the first option or pattern, then looks through the whole string for the second, third, etc. If 'have' returns first, it tells me that Regex looks at the first word, checks if it matches any of the specified patterns, and then moves onto the second. An important distinction. "
   ]
  },
  {
   "cell_type": "code",
   "execution_count": 8,
   "metadata": {},
   "outputs": [
    {
     "name": "stdout",
     "output_type": "stream",
     "text": [
      "Match found: have\n"
     ]
    }
   ],
   "source": [
    "\n",
    "pattern = r'banana|apple|have'\n",
    "\n",
    "result = re.search(pattern, text)\n",
    "if result:\n",
    "    print(\"Match found:\", result.group())\n",
    "else:\n",
    "    print(\"No fruit found.\")"
   ]
  },
  {
   "cell_type": "markdown",
   "metadata": {},
   "source": [
    "Because the function returned 'have', it means that it searches each set of characters in the string one by one looking for the first match of any of the options. Good to know.  "
   ]
  },
  {
   "cell_type": "code",
   "execution_count": 9,
   "metadata": {},
   "outputs": [
    {
     "name": "stdout",
     "output_type": "stream",
     "text": [
      "Match found: apple\n"
     ]
    }
   ],
   "source": [
    "# the dot in this regular expression pattern represents any character EXCEPT new line characters. \n",
    "pattern = r'ap.le' \n",
    "\n",
    "result = re.search(pattern, text)\n",
    "if result:\n",
    "    print(\"Match found:\", result.group())\n",
    "else:\n",
    "    print(\"No fruit found.\")"
   ]
  },
  {
   "cell_type": "markdown",
   "metadata": {},
   "source": [
    "The code above returned 'apple' because it found a set of characters that started with \"ap\", had any single character following it, and then had \"le\" following that. "
   ]
  },
  {
   "cell_type": "code",
   "execution_count": 10,
   "metadata": {},
   "outputs": [
    {
     "name": "stdout",
     "output_type": "stream",
     "text": [
      "Match found: aptle\n"
     ]
    }
   ],
   "source": [
    "text = 'I love aptles and bananas.'\n",
    "\n",
    "pattern = r'ap.le' \n",
    "\n",
    "result = re.search(pattern, text)\n",
    "if result:\n",
    "    print(\"Match found:\", result.group())\n",
    "else:\n",
    "    print(\"No fruit found.\")"
   ]
  },
  {
   "cell_type": "markdown",
   "metadata": {},
   "source": [
    "When I changed the text be 'aptle' instead of 'apple' it returned the same result, because it found, again, a set of characters that started with \"ap\", had any single character following it, and then had \"le\" following that. \n",
    "\n",
    "I feel like this Regex principle will also be handy. We'll see. \n",
    "\n",
    "Putting characters inside brackets **[]** establishes a class, or group, of characters for the regex finder to look for. For example **[aeiou]** looks for a OR e OR i OR o OR u, so it would be the same as **r'a|e|i|o|u\"**. I'll demonstrate below. "
   ]
  },
  {
   "cell_type": "code",
   "execution_count": 11,
   "metadata": {},
   "outputs": [
    {
     "name": "stdout",
     "output_type": "stream",
     "text": [
      "Match found: o\n",
      "Match found: o\n"
     ]
    }
   ],
   "source": [
    "# fix the text so it doesn't bother me. \n",
    "text = 'I love apples and bananas.'\n",
    "\n",
    "class_pattern = r'[aeiou]'\n",
    "or_pattern = r'a|e|i|o|u' \n",
    "\n",
    "class_result = re.search(class_pattern, text)\n",
    "if result:\n",
    "    print(\"Match found:\", class_result.group())\n",
    "else:\n",
    "    print(\"No fruit found.\")\n",
    "\n",
    "or_result = re.search(or_pattern, text)\n",
    "if result:\n",
    "    print(\"Match found:\", or_result.group())\n",
    "else:\n",
    "    print(\"No fruit found.\")"
   ]
  },
  {
   "cell_type": "markdown",
   "metadata": {},
   "source": [
    "The first matching character found in both cases was \"o\", working exactly as I predicted. Wonderful. \n",
    "\n",
    "I can also specify the number of any type of character I am looking for using swirly brackets **{}**. "
   ]
  },
  {
   "cell_type": "code",
   "execution_count": 12,
   "metadata": {},
   "outputs": [
    {
     "name": "stdout",
     "output_type": "stream",
     "text": [
      "SSN found: 123-45-6789\n"
     ]
    }
   ],
   "source": [
    "# this pattern looks for any 3 consecutive digits, followed by a dash, followed by any 2 consecutive digits, followed by a dash, followed by any 4 consecutive digits. \n",
    "# it's looking for social security numbers\n",
    "ssn_pattern = r'\\d{3}-\\d{2}-\\d{4}'\n",
    "\n",
    "ssn_text = \"My social security number is 123-45-6789.\"\n",
    "\n",
    "result = re.search(ssn_pattern, ssn_text)\n",
    "if result:\n",
    "    print(\"SSN found:\", result.group())\n",
    "else:\n",
    "    print(\"No SSN found.\")"
   ]
  },
  {
   "cell_type": "markdown",
   "metadata": {},
   "source": [
    "**re.match()** looks only at the beginning of the string to be assessed. If the pattern at the very start of a search does not match the pattern, it will return nothing. This makes this function useful ***IF*** the string has been stripped (or had any extra spaces at the begininning or end removed). Even then, it's only useful if, for example, you're looking only for phone numbers starting with, for example, \"867-\" or for books whose title specifically starts with \"Harry Potter and\". I don't think it will be particularly useful for my purposes. "
   ]
  },
  {
   "cell_type": "code",
   "execution_count": 13,
   "metadata": {},
   "outputs": [
    {
     "name": "stdout",
     "output_type": "stream",
     "text": [
      "No match found.\n"
     ]
    }
   ],
   "source": [
    "# searches for any word character (a-z, A-Z, 0-9, or _)\n",
    "pattern = '\\w'\n",
    "\n",
    "# changes text to have a space at the start for demonstration\n",
    "space_text = ' I have an apple and a banana.'\n",
    "\n",
    "result = re.match(pattern, space_text)\n",
    "if result:\n",
    "    print(f\"Match found: {result.group()}\")\n",
    "else:\n",
    "    print(\"No match found.\")\n",
    "# No match is found because there is a space at the beginning of the string, where it's looking for a-z, A-Z, 0-9, or _. "
   ]
  },
  {
   "cell_type": "code",
   "execution_count": 14,
   "metadata": {},
   "outputs": [
    {
     "name": "stdout",
     "output_type": "stream",
     "text": [
      "Match found: I\n"
     ]
    }
   ],
   "source": [
    "# does the search, but strips the space_text of extra spaces first. \n",
    "result = re.match(pattern, space_text.strip())\n",
    "if result:\n",
    "    print(f\"Match found: {result.group()}\")\n",
    "else:\n",
    "    print(\"No match found.\")\n",
    "\n",
    "# finds a match because the space_text was stripped of extra spaces. \n",
    "# it's good to know that I can run operators like .strip() inside Regex functions"
   ]
  },
  {
   "cell_type": "markdown",
   "metadata": {},
   "source": [
    "Now I can experiment a little bit, having laid the ground work. Here's an intense and thorough pattern that is expected to find emails. \n",
    "\n",
    "`[\\w\\.]+@\\w+\\.\\w+`\n",
    "* `[\\w\\.]` looks for any **class** of word characters or actual dots or periods. (`.` stands for any character, while `\\.` stands for actual dots or periods)\n",
    "* `@` matches the **@** symbol following the match above\n",
    "* `\\w+` matches one or more word characters (letters, numbers, or underscores) after or following the **@**\n",
    "* `\\.` again matches the literal dot or period after the match above\n",
    "* `\\w+` matches any number of word characters after the dot (`\\.`) above\n",
    "\n",
    "Pretty intense. \n"
   ]
  },
  {
   "cell_type": "code",
   "execution_count": 15,
   "metadata": {},
   "outputs": [
    {
     "data": {
      "text/plain": [
       "['john.doe@example.com',\n",
       " 'mary_smith123@gmail.com',\n",
       " 'theodore@example.co',\n",
       " 'contact_us@company.net',\n",
       " 'info123@yahoo.com',\n",
       " 'alice.bob@example.org',\n",
       " 'support@website.io',\n",
       " 'sales.department@example.com',\n",
       " 'test.email@domain.com',\n",
       " 'random.email@subdomain.co']"
      ]
     },
     "execution_count": 15,
     "metadata": {},
     "output_type": "execute_result"
    }
   ],
   "source": [
    "emails_txt = \"\"\"\n",
    "Here are some made-up email addresses:\n",
    "john.doe@example.com\n",
    "mary_smith123@gmail.com\n",
    "theodore@example.co.uk\n",
    "contact_us@company.net\n",
    "info123@yahoo.com\n",
    "alice.bob@example.org\n",
    "support@website.io\n",
    "sales.department@example.com\n",
    "test.email@domain.com\n",
    "random.email@subdomain.co\n",
    "\"\"\"\n",
    "\n",
    "email_pattern = '[\\w\\.]+@\\w+\\.\\w+'\n",
    "\n",
    "emails = re.findall(email_pattern, emails_txt)\n",
    "\n",
    "emails"
   ]
  },
  {
   "cell_type": "markdown",
   "metadata": {},
   "source": [
    "The problem with this, though, is that when you look at the email beginning with 'theodore', this regular expression pattern cuts of the \".uk\" at the end, because it doesn't account for the fact that the last set of word characters could be followed by \".something\". So I need to adjust the search pattern to fix this. "
   ]
  },
  {
   "cell_type": "code",
   "execution_count": 16,
   "metadata": {},
   "outputs": [
    {
     "data": {
      "text/plain": [
       "['theodore@example.co.uk']"
      ]
     },
     "execution_count": 16,
     "metadata": {},
     "output_type": "execute_result"
    }
   ],
   "source": [
    "fixed_pattern = '[\\w\\.]+@\\w+\\.\\w+\\.\\w+'\n",
    "# all I did here was add an extra dot at the end and an extra set of word characters. \n",
    "\n",
    "emails = re.findall(fixed_pattern, emails_txt)\n",
    "\n",
    "emails\n",
    "# The problem with this is that it ONLY returned the theodore email because it's the only one with the extra .something at the end. \n",
    "# I suspected that would happen. I need to make that last bit optional. "
   ]
  },
  {
   "cell_type": "markdown",
   "metadata": {},
   "source": [
    "One attempt I can make would be to take the original expression, and add my fixed one as an alternative option using the OR operator `|`. "
   ]
  },
  {
   "cell_type": "code",
   "execution_count": 17,
   "metadata": {},
   "outputs": [
    {
     "data": {
      "text/plain": [
       "['john.doe@example.com',\n",
       " 'mary_smith123@gmail.com',\n",
       " 'theodore@example.co',\n",
       " 'contact_us@company.net',\n",
       " 'info123@yahoo.com',\n",
       " 'alice.bob@example.org',\n",
       " 'support@website.io',\n",
       " 'sales.department@example.com',\n",
       " 'test.email@domain.com',\n",
       " 'random.email@subdomain.co']"
      ]
     },
     "execution_count": 17,
     "metadata": {},
     "output_type": "execute_result"
    }
   ],
   "source": [
    "fixed_pattern = r'[\\w\\.]+@\\w+\\.\\w+|[\\w\\.]+@\\w+\\.\\w+\\.\\w+'\n",
    "\n",
    "emails = re.findall(fixed_pattern, emails_txt)\n",
    "\n",
    "emails"
   ]
  },
  {
   "cell_type": "markdown",
   "metadata": {},
   "source": [
    "However, that didn't work. What if I put the alternative option first?"
   ]
  },
  {
   "cell_type": "code",
   "execution_count": 18,
   "metadata": {},
   "outputs": [
    {
     "data": {
      "text/plain": [
       "['john.doe@example.com',\n",
       " 'mary_smith123@gmail.com',\n",
       " 'theodore@example.co.uk',\n",
       " 'contact_us@company.net',\n",
       " 'info123@yahoo.com',\n",
       " 'alice.bob@example.org',\n",
       " 'support@website.io',\n",
       " 'sales.department@example.com',\n",
       " 'test.email@domain.com',\n",
       " 'random.email@subdomain.co']"
      ]
     },
     "execution_count": 18,
     "metadata": {},
     "output_type": "execute_result"
    }
   ],
   "source": [
    "fixed_pattern = r'[\\w\\.]+@\\w+\\.\\w+\\.\\w+|[\\w\\.]+@\\w+\\.\\w+'\n",
    "\n",
    "emails = re.findall(fixed_pattern, emails_txt)\n",
    "\n",
    "emails"
   ]
  },
  {
   "cell_type": "markdown",
   "metadata": {},
   "source": [
    "HAHA! That did it. That's probably not what anyone was expecting, but it totally works. There's probably a more efficient way to do it, though.\n",
    "\n",
    "Looking at the linked cheat sheet, it seems like I can use the `*` zero or more operator. Let's try that. "
   ]
  },
  {
   "cell_type": "code",
   "execution_count": 22,
   "metadata": {},
   "outputs": [
    {
     "data": {
      "text/plain": [
       "['john.doe@example.com',\n",
       " 'mary_smith123@gmail.com',\n",
       " 'theodore@example.co.uk',\n",
       " 'contact_us@company.net',\n",
       " 'info123@yahoo.com',\n",
       " 'alice.bob@example.org',\n",
       " 'support@website.io',\n",
       " 'sales.department@example.com',\n",
       " 'test.email@domain.com',\n",
       " 'random.email@subdomain.co']"
      ]
     },
     "execution_count": 22,
     "metadata": {},
     "output_type": "execute_result"
    }
   ],
   "source": [
    "fixed_pattern = '[\\w\\.]+@\\w+\\.\\w+\\.*\\w*'\n",
    "# this takes everything that was already there and at the end looks for zero or more dots followed by zero or more word characters\n",
    "\n",
    "emails = re.findall(fixed_pattern, emails_txt)\n",
    "\n",
    "emails"
   ]
  },
  {
   "cell_type": "markdown",
   "metadata": {},
   "source": [
    "That worked. Awesome. I found two possible solutions, one less elegant, one more so. "
   ]
  },
  {
   "cell_type": "markdown",
   "metadata": {},
   "source": [
    "`re.iter()` works basically the same way as `re.findall()` but it returns results individually instead of as a list. This will be useful later when I'm looking for start dates and end dates, which I will want stored as separate objects as soon as they are found so I don't need to separate them myself later."
   ]
  },
  {
   "cell_type": "code",
   "execution_count": 24,
   "metadata": {},
   "outputs": [
    {
     "name": "stdout",
     "output_type": "stream",
     "text": [
      "Match found: 3\n",
      "Match found: 5\n",
      "Match found: 10\n",
      "Match found: 3\n",
      "Match found: 9\n",
      "Match found: 1\n"
     ]
    }
   ],
   "source": [
    "# pattern to search for is any number of digits\n",
    "pattern = '\\d+'\n",
    "text = 'I have 3 apples and 5 bananas and 10 oranges and 3 strawberries and 9 melons and only 1 dragonfruit.'\n",
    "\n",
    "matches = re.finditer(pattern, text)\n",
    "for match in matches:\n",
    "    print(f\"Match found: {match.group()}\")\n",
    "# returns two individual matches"
   ]
  },
  {
   "cell_type": "markdown",
   "metadata": {},
   "source": [
    "Since I only have a few minutes left, I want to play around and try something that may be useful when I'm getting those dates. "
   ]
  },
  {
   "cell_type": "code",
   "execution_count": 26,
   "metadata": {},
   "outputs": [
    {
     "name": "stdout",
     "output_type": "stream",
     "text": [
      "end date: 3\n",
      "start date: 5\n",
      "end date: 10\n",
      "start date: 3\n",
      "end date: 9\n",
      "start date: 1\n"
     ]
    }
   ],
   "source": [
    "# pattern to search for is any number of digits\n",
    "pattern = '\\d+'\n",
    "text = 'I have 3 apples and 5 bananas and 10 oranges and 3 strawberries and 9 melons and only 1 dragonfruit.'\n",
    "\n",
    "matches = re.finditer(pattern, text)\n",
    "# sets an initial count at zero\n",
    "count = 0\n",
    "for match in matches:\n",
    "    # for every match found, add 1 to the counter\n",
    "    count += 1\n",
    "    # then, if the count divided by 2 has a remainder of 1, print start date and match found\n",
    "    if count %2 == 1:\n",
    "        print(f'start date: {match.group()}')\n",
    "    # otherwise, or if the count divided by 2 has a remainder of 0, print end date and match found\n",
    "    else:\n",
    "        print(f'end date: {match.group()}')"
   ]
  },
  {
   "cell_type": "markdown",
   "metadata": {},
   "source": [
    "Ah! It doesn't make sense here, but dang that's amazing! It totally worked exactly the way I wanted it to. \n",
    "\n",
    "When I use this kind of functionality in the future, I will be able to categorize the first date appearance as start date and the second date appearance as end date when I'm doing my Come, Follow Me Breakdown. Awesome. \n",
    "\n",
    "Tomorrow, I'll wrap up learning the basics of Regex and continue on getting my General Conference Breakdown tool built. "
   ]
  },
  {
   "cell_type": "markdown",
   "metadata": {},
   "source": []
  }
 ],
 "metadata": {
  "kernelspec": {
   "display_name": "base",
   "language": "python",
   "name": "python3"
  },
  "language_info": {
   "codemirror_mode": {
    "name": "ipython",
    "version": 3
   },
   "file_extension": ".py",
   "mimetype": "text/x-python",
   "name": "python",
   "nbconvert_exporter": "python",
   "pygments_lexer": "ipython3",
   "version": "3.11.7"
  }
 },
 "nbformat": 4,
 "nbformat_minor": 2
}
